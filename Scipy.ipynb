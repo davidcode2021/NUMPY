{
 "cells": [
  {
   "cell_type": "code",
   "execution_count": 1,
   "metadata": {},
   "outputs": [],
   "source": [
    "from scipy import constants\n",
    "from scipy.optimize import root,minimize\n",
    "from scipy import stats\n",
    "import matplotlib.pyplot as plt \n"
   ]
  },
  {
   "cell_type": "code",
   "execution_count": 2,
   "metadata": {},
   "outputs": [
    {
     "name": "stdout",
     "output_type": "stream",
     "text": [
      "    fjac: array([[-1.]])\n",
      "     fun: array([0.])\n",
      " message: 'The solution converged.'\n",
      "    nfev: 41\n",
      "     qtf: array([-1.11022302e-16])\n",
      "       r: array([-2.20544263e-08])\n",
      "  status: 1\n",
      " success: True\n",
      "       x: array([-1.])\n"
     ]
    }
   ],
   "source": [
    "def eqn(x):\n",
    "    return x**2+2*x+1\n",
    "\n",
    "myeqn=root(eqn,0)\n",
    "print(myeqn)"
   ]
  },
  {
   "cell_type": "code",
   "execution_count": 11,
   "metadata": {},
   "outputs": [
    {
     "data": {
      "image/png": "[encoded data removed]",
      "text/plain": [
       "<Figure size 432x288 with 1 Axes>"
      ]
     },
     "metadata": {
      "needs_background": "light"
     },
     "output_type": "display_data"
    }
   ],
   "source": [
    "x1=[5,7,8,7,2,17,2,9,4,11,12,9,6]\n",
    "y=[99,86,87,88,111,86,103,87,94,78,77,85,86]\n",
    "slope,intercept,r,p,std_err=stats.linregress(x1,y)\n",
    "def myfunc(x1):\n",
    "    return slope*x1+intercept\n",
    "mymodel=list(map(myfunc,x1))\n",
    "plt.scatter(x1,y)\n",
    "plt.plot(x1,mymodel,color=\"r\")\n",
    "plt.show()\n"
   ]
  },
  {
   "cell_type": "code",
   "execution_count": 12,
   "metadata": {},
   "outputs": [
    {
     "name": "stdout",
     "output_type": "stream",
     "text": [
      "89.3466819221968\n"
     ]
    }
   ],
   "source": [
    "x1=[5,7,8,7,2,1,17,2,9,4,11,12,9,6]\n",
    "y=[99,86,87,88,111,86,103,87,94,78,77,85,86,82]\n",
    "\n",
    "slope,intercept,r,p,std_err=stats.linregress(x,y)\n",
    "\n",
    "def myfunc(x1):\n",
    "    return slope* x1 + intercept \n",
    "\n",
    "speed=myfunc(10)\n",
    "print(speed)\n"
   ]
  },
  {
   "cell_type": "code",
   "execution_count": 14,
   "metadata": {},
   "outputs": [
    {
     "name": "stdout",
     "output_type": "stream",
     "text": [
      "18\n"
     ]
    }
   ],
   "source": [
    "x=[1,2,3,5,6,7,8,9,10,12,13,14,15,16,18,19,21,22]\n",
    "y=[100,90,80,60,60,55,60,65,70,70,75,76,78,79,90,99,99,100]\n"
   ]
  },
  {
   "cell_type": "code",
   "execution_count": null,
   "metadata": {},
   "outputs": [],
   "source": []
  }
 ],
 "metadata": {
  "kernelspec": {
   "display_name": "Python 3",
   "language": "python",
   "name": "python3"
  },
  "language_info": {
   "codemirror_mode": {
    "name": "ipython",
    "version": 3
   },
   "file_extension": ".py",
   "mimetype": "text/x-python",
   "name": "python",
   "nbconvert_exporter": "python",
   "pygments_lexer": "ipython3",
   "version": "3.7.6"
  }
 },
 "nbformat": 4,
 "nbformat_minor": 4
}
