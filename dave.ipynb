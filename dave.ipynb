{
 "cells": [
  {
   "cell_type": "code",
   "execution_count": 2,
   "metadata": {},
   "outputs": [],
   "source": [
    "import numpy as np"
   ]
  },
  {
   "cell_type": "code",
   "execution_count": 13,
   "metadata": {},
   "outputs": [
    {
     "data": {
      "text/plain": [
       "array([7, 9, 1])"
      ]
     },
     "execution_count": 13,
     "metadata": {},
     "output_type": "execute_result"
    }
   ],
   "source": [
    "arr=np.array([2,4,6,7,10,9,1])\n",
    "x=np.searchsorted(arr,14)\n",
    "y=np.where(arr%2 ==1)\n",
    "arr[y]\n"
   ]
  },
  {
   "cell_type": "code",
   "execution_count": 5,
   "metadata": {},
   "outputs": [
    {
     "ename": "IndexError",
     "evalue": "tuple index out of range",
     "output_type": "error",
     "traceback": [
      "\u001b[0;31m---------------------------------------------------------------------------\u001b[0m",
      "\u001b[0;31mIndexError\u001b[0m                                Traceback (most recent call last)",
      "\u001b[0;32m<ipython-input-5-6ee0cb694fb9>\u001b[0m in \u001b[0;36m<module>\u001b[0;34m\u001b[0m\n\u001b[0;32m----> 1\u001b[0;31m \u001b[0my\u001b[0m\u001b[0;34m[\u001b[0m\u001b[0;36m2\u001b[0m\u001b[0;34m]\u001b[0m\u001b[0;34m\u001b[0m\u001b[0;34m\u001b[0m\u001b[0m\n\u001b[0m",
      "\u001b[0;31mIndexError\u001b[0m: tuple index out of range"
     ]
    }
   ],
   "source": [
    "\n"
   ]
  },
  {
   "cell_type": "code",
   "execution_count": 4,
   "metadata": {},
   "outputs": [],
   "source": [
    "arr1=np.array([2,3,4,5,6,8])\n",
    "filter_arr=[]\n",
    "for element in arr1:\n",
    "    if element%2==0:\n",
    "        filter_arr.append(True)\n",
    "    else:\n",
    "        filter_arr.append(False)\n",
    "newarr=arr1[filter_arr]\n",
    "\n",
    "\n",
    "        \n"
   ]
  },
  {
   "cell_type": "code",
   "execution_count": 5,
   "metadata": {},
   "outputs": [
    {
     "name": "stdout",
     "output_type": "stream",
     "text": [
      "[True, False, True, False, True, True]\n",
      "[2 4 6 8]\n"
     ]
    }
   ],
   "source": [
    "print(filter_arr)\n",
    "print(newarr)"
   ]
  },
  {
   "cell_type": "code",
   "execution_count": 6,
   "metadata": {},
   "outputs": [
    {
     "data": {
      "text/plain": [
       "array([[0, 1, 2],\n",
       "       [3, 4, 5],\n",
       "       [6, 7, 8]])"
      ]
     },
     "execution_count": 6,
     "metadata": {},
     "output_type": "execute_result"
    }
   ],
   "source": [
    "x=np.arange(9).reshape(3,3)\n",
    "x"
   ]
  },
  {
   "cell_type": "code",
   "execution_count": 7,
   "metadata": {},
   "outputs": [
    {
     "name": "stdout",
     "output_type": "stream",
     "text": [
      "0\n",
      "3\n",
      "6\n",
      "1\n",
      "4\n",
      "7\n",
      "2\n",
      "5\n",
      "8\n"
     ]
    }
   ],
   "source": [
    "for element in np.nditer(x, order=\"F\"):\n",
    "    print(element)  \n"
   ]
  },
  {
   "cell_type": "code",
   "execution_count": 8,
   "metadata": {},
   "outputs": [
    {
     "name": "stdout",
     "output_type": "stream",
     "text": [
      "[[1 2 2 2 3 4]\n",
      " [4 5 6 3 6 7]]\n"
     ]
    }
   ],
   "source": [
    "z=np.array([[1,2,2],[4,5,6]])\n",
    "x=np.array([[2,3,4],[3,6,7]])\n",
    "d=np.concatenate((z,x),axis=1)\n",
    "print(d)\n"
   ]
  },
  {
   "cell_type": "code",
   "execution_count": 14,
   "metadata": {},
   "outputs": [
    {
     "data": {
      "text/plain": [
       "array([ 2,  5,  8, 11, 14, 17, 20, 23, 26, 29, 32, 35, 38])"
      ]
     },
     "execution_count": 14,
     "metadata": {},
     "output_type": "execute_result"
    }
   ],
   "source": [
    "c=np.arange(2,39,3)\n",
    "c"
   ]
  },
  {
   "cell_type": "code",
   "execution_count": 10,
   "metadata": {},
   "outputs": [
    {
     "name": "stdout",
     "output_type": "stream",
     "text": [
      "[array([ 2,  5,  8, 11]), array([14, 17, 20]), array([23, 26, 29])]\n"
     ]
    }
   ],
   "source": [
    "print(np.array_split(c,3))"
   ]
  },
  {
   "cell_type": "code",
   "execution_count": 11,
   "metadata": {},
   "outputs": [
    {
     "data": {
      "text/plain": [
       "8"
      ]
     },
     "execution_count": 11,
     "metadata": {},
     "output_type": "execute_result"
    }
   ],
   "source": [
    "from numpy import random\n",
    "\n",
    "g=random.choice(c)\n",
    "g"
   ]
  },
  {
   "cell_type": "code",
   "execution_count": 12,
   "metadata": {},
   "outputs": [
    {
     "data": {
      "text/plain": [
       "array([[5, 7, 3, 9],\n",
       "       [7, 7, 7, 7],\n",
       "       [7, 5, 9, 7]])"
      ]
     },
     "execution_count": 12,
     "metadata": {},
     "output_type": "execute_result"
    }
   ],
   "source": [
    "y=random.choice([3,5,7,9],p=[0.1,0.3,0.5,0.1], size=(3,4))\n",
    "y"
   ]
  },
  {
   "cell_type": "code",
   "execution_count": 13,
   "metadata": {},
   "outputs": [
    {
     "name": "stdout",
     "output_type": "stream",
     "text": [
      "[ 2  5  8 11 14 17 20 23 26 29]\n",
      "[11  5 20 17 29  8 14 23 26  2]\n"
     ]
    }
   ],
   "source": [
    "print(c)\n",
    "random.shuffle(c)\n",
    "print(c)"
   ]
  },
  {
   "cell_type": "code",
   "execution_count": 14,
   "metadata": {},
   "outputs": [
    {
     "name": "stdout",
     "output_type": "stream",
     "text": [
      "[ 5 26 23  8 11  2 29 14 17 20]\n"
     ]
    }
   ],
   "source": [
    "b=random.permutation(c)\n",
    "print(b)\n"
   ]
  },
  {
   "cell_type": "code",
   "execution_count": 15,
   "metadata": {},
   "outputs": [],
   "source": [
    "import matplotlib.pyplot as plt\n",
    "import seaborn as sns"
   ]
  },
  {
   "cell_type": "code",
   "execution_count": null,
   "metadata": {},
   "outputs": [],
   "source": []
  },
  {
   "cell_type": "code",
   "execution_count": 16,
   "metadata": {},
   "outputs": [
    {
     "data": {
      "image/png": "[encoded data removed]",
      "text/plain": [
       "<Figure size 432x288 with 1 Axes>"
      ]
     },
     "metadata": {
      "needs_background": "light"
     },
     "output_type": "display_data"
    }
   ],
   "source": [
    "sns.distplot(c, hist=False)\n",
    "plt.show()"
   ]
  },
  {
   "cell_type": "code",
   "execution_count": 17,
   "metadata": {},
   "outputs": [
    {
     "data": {
      "image/png": "[encoded data removed]",
      "text/plain": [
       "<Figure size 432x288 with 1 Axes>"
      ]
     },
     "metadata": {
      "needs_background": "light"
     },
     "output_type": "display_data"
    }
   ],
   "source": [
    "x=random.normal(size=1000)\n",
    "sns.distplot(x,hist=False)\n",
    "\n",
    "plt.show()"
   ]
  },
  {
   "cell_type": "code",
   "execution_count": 18,
   "metadata": {},
   "outputs": [
    {
     "data": {
      "image/png": "[encoded data removed]",
      "text/plain": [
       "<Figure size 432x288 with 1 Axes>"
      ]
     },
     "metadata": {
      "needs_background": "light"
     },
     "output_type": "display_data"
    }
   ],
   "source": [
    "n=random.binomial(n=100,p=0.5,size=1000,)\n",
    "\n",
    "v=random.normal(loc=50,scale=5,size=1000)\n",
    "\n",
    "sns.distplot(n,hist=False,label=\"binomial\")\n",
    "\n",
    "sns.distplot(v,hist=False,label=\"normal\")\n",
    "plt.show()"
   ]
  },
  {
   "cell_type": "code",
   "execution_count": 19,
   "metadata": {},
   "outputs": [
    {
     "data": {
      "image/png": "[encoded data removed]",
      "text/plain": [
       "<Figure size 432x288 with 1 Axes>"
      ]
     },
     "metadata": {
      "needs_background": "light"
     },
     "output_type": "display_data"
    }
   ],
   "source": [
    "sns.distplot(n,hist=True,kde=False)\n",
    "plt.show()"
   ]
  },
  {
   "cell_type": "code",
   "execution_count": 20,
   "metadata": {},
   "outputs": [
    {
     "data": {
      "text/plain": [
       "array([1, 2, 3, 4, 1, 2, 2, 3, 3, 2, 0, 1, 0, 2, 2, 1, 0, 3, 0, 4, 3, 3,\n",
       "       4, 2, 0, 4, 2, 0, 1, 3, 3, 3, 3, 3, 0, 4, 1, 1, 1, 2, 1, 1, 3, 3,\n",
       "       1, 1, 4, 3, 3, 2, 1, 2, 2, 1, 3, 0, 0, 1, 1, 2, 1, 5, 2, 0, 1, 2,\n",
       "       4, 4, 2, 2, 1, 1, 1, 0, 0, 3, 2, 2, 5, 3, 1, 0, 0, 3, 1, 8, 3, 1,\n",
       "       5, 0, 2, 3, 1, 1, 2, 3, 2, 5, 4, 3, 0, 0, 1, 2, 2, 2, 0, 2, 1, 1,\n",
       "       3, 2, 3, 7, 2, 2, 3, 5, 1, 4, 3, 1, 2, 2, 0, 0, 3, 2, 1, 1, 3, 1,\n",
       "       1, 0, 2, 0, 1, 4, 2, 2, 1, 4, 3, 5, 3, 1, 1, 3, 3, 2, 1, 2, 1, 4,\n",
       "       1, 1, 2, 3, 4, 3, 0, 3, 1, 1, 0, 0, 3, 2, 2, 1, 1, 2, 1, 2, 1, 5,\n",
       "       1, 4, 3, 2, 1, 4, 4, 3, 1, 0, 1, 0, 1, 1, 4, 5, 2, 3, 2, 1, 3, 1,\n",
       "       1, 3, 2, 2, 1, 2, 2, 0, 0, 5, 1, 2, 6, 3, 1, 4, 1, 1, 1, 6, 2, 1,\n",
       "       1, 2, 2, 1, 1, 1, 2, 1, 1, 2, 3, 1, 1, 0, 3, 2, 1, 0, 2, 3, 2, 1,\n",
       "       0, 2, 2, 3, 1, 1, 1, 4, 3, 3, 1, 1, 2, 0, 2, 3, 2, 1, 3, 1, 2, 2,\n",
       "       4, 1, 5, 3, 1, 1, 3, 3, 2, 5, 0, 0, 3, 3, 2, 0, 4, 5, 2, 4, 1, 1,\n",
       "       5, 4, 3, 1, 0, 1, 2, 4, 2, 3, 2, 2, 2, 3, 1, 2, 3, 3, 1, 1, 3, 4,\n",
       "       1, 0, 2, 2, 2, 4, 3, 2, 1, 3, 3, 1, 3, 1, 2, 1, 1, 3, 1, 5, 2, 3,\n",
       "       1, 0, 3, 2, 2, 2, 1, 3, 2, 1, 5, 1, 2, 4, 0, 1, 3, 1, 2, 2, 0, 2,\n",
       "       2, 1, 0, 2, 1, 1, 0, 1, 2, 3, 2, 0, 1, 0, 6, 2, 4, 4, 4, 0, 2, 0,\n",
       "       1, 2, 2, 1, 3, 0, 3, 4, 1, 4, 5, 5, 5, 0, 1, 2, 2, 2, 1, 1, 2, 1,\n",
       "       3, 2, 1, 2, 1, 1, 0, 0, 2, 1, 0, 2, 5, 1, 0, 2, 1, 2, 2, 3, 3, 2,\n",
       "       1, 3, 2, 5, 2, 1, 3, 6, 5, 1, 0, 0, 2, 0, 2, 2, 3, 0, 2, 4, 0, 0,\n",
       "       2, 1, 1, 1, 0, 2, 1, 3, 2, 3, 3, 0, 4, 0, 1, 1, 2, 3, 1, 4, 2, 1,\n",
       "       1, 3, 2, 2, 0, 3, 2, 2, 2, 4, 3, 9, 4, 0, 2, 2, 2, 1, 1, 0, 3, 5,\n",
       "       2, 2, 2, 1, 3, 1, 2, 1, 2, 2, 3, 1, 3, 2, 1, 3, 2, 0, 0, 2, 1, 5,\n",
       "       2, 3, 3, 5, 2, 1, 2, 2, 1, 2, 2, 1, 2, 4, 2, 2, 4, 3, 0, 1, 3, 4,\n",
       "       2, 3, 3, 0, 2, 3, 2, 2, 0, 1, 2, 0, 2, 2, 2, 4, 2, 1, 0, 2, 4, 4,\n",
       "       4, 3, 1, 3, 1, 2, 3, 3, 4, 1, 1, 2, 1, 5, 2, 0, 3, 1, 1, 2, 2, 2,\n",
       "       0, 0, 5, 1, 1, 0, 3, 3, 2, 0, 2, 1, 1, 2, 3, 4, 1, 2, 1, 3, 2, 2,\n",
       "       1, 2, 2, 1, 2, 0, 1, 1, 3, 3, 1, 0, 0, 5, 2, 2, 3, 3, 2, 3, 1, 3,\n",
       "       3, 2, 1, 2, 1, 2, 1, 3, 4, 1, 2, 3, 1, 2, 1, 4, 1, 2, 4, 1, 8, 3,\n",
       "       2, 1, 0, 3, 2, 3, 1, 2, 2, 1, 3, 2, 2, 2, 2, 1, 7, 1, 1, 3, 2, 2,\n",
       "       2, 1, 3, 2, 0, 2, 3, 0, 0, 3, 3, 1, 1, 2, 0, 3, 2, 5, 0, 4, 2, 3,\n",
       "       3, 5, 2, 1, 2, 3, 1, 0, 1, 3, 0, 1, 4, 4, 4, 2, 1, 5, 3, 2, 2, 1,\n",
       "       1, 0, 0, 2, 2, 5, 2, 2, 2, 1, 3, 1, 2, 4, 3, 3, 2, 1, 2, 0, 1, 0,\n",
       "       4, 3, 3, 4, 3, 3, 4, 3, 3, 3, 0, 1, 1, 2, 1, 2, 4, 1, 0, 2, 1, 1,\n",
       "       4, 3, 1, 0, 6, 0, 4, 4, 2, 3, 6, 0, 3, 3, 3, 2, 1, 4, 2, 0, 1, 4,\n",
       "       3, 5, 1, 3, 4, 2, 2, 1, 0, 2, 5, 1, 3, 1, 0, 1, 2, 2, 1, 0, 1, 2,\n",
       "       1, 4, 2, 4, 3, 0, 2, 1, 6, 2, 1, 2, 1, 0, 2, 2, 6, 1, 3, 1, 2, 1,\n",
       "       2, 2, 1, 2, 3, 1, 1, 1, 1, 3, 1, 3, 1, 3, 3, 0, 4, 0, 3, 0, 1, 5,\n",
       "       0, 1, 4, 0, 1, 2, 0, 3, 2, 3, 0, 0, 4, 0, 3, 0, 2, 2, 1, 1, 0, 3,\n",
       "       2, 3, 3, 1, 4, 2, 1, 6, 3, 5, 2, 3, 3, 4, 3, 6, 1, 2, 0, 2, 2, 5,\n",
       "       4, 2, 1, 1, 6, 2, 1, 0, 5, 3, 0, 4, 2, 2, 3, 2, 2, 1, 2, 3, 0, 1,\n",
       "       2, 2, 1, 2, 3, 1, 0, 1, 5, 0, 2, 1, 0, 1, 3, 3, 0, 2, 2, 4, 1, 5,\n",
       "       2, 1, 3, 1, 0, 4, 5, 2, 1, 1, 4, 2, 2, 4, 1, 1, 0, 3, 1, 2, 3, 1,\n",
       "       2, 3, 0, 2, 2, 3, 1, 4, 2, 2, 1, 3, 3, 0, 2, 0, 1, 4, 4, 1, 2, 6,\n",
       "       4, 3, 1, 1, 4, 1, 0, 3, 2, 0, 3, 2, 3, 1, 2, 2, 2, 2, 3, 2, 1, 0,\n",
       "       6, 3, 0, 3, 0, 1, 1, 3, 1, 3])"
      ]
     },
     "execution_count": 20,
     "metadata": {},
     "output_type": "execute_result"
    }
   ],
   "source": [
    "l=random.poisson(lam=2,size=1000)\n",
    "l"
   ]
  },
  {
   "cell_type": "code",
   "execution_count": 21,
   "metadata": {},
   "outputs": [
    {
     "data": {
      "text/plain": [
       "[]"
      ]
     },
     "execution_count": 21,
     "metadata": {},
     "output_type": "execute_result"
    },
    {
     "data": {
      "image/png": "[encoded data removed]",
      "text/plain": [
       "<Figure size 432x288 with 1 Axes>"
      ]
     },
     "metadata": {
      "needs_background": "light"
     },
     "output_type": "display_data"
    }
   ],
   "source": [
    "sns.distplot(l,kde=False)\n",
    "plt.plot()"
   ]
  },
  {
   "cell_type": "code",
   "execution_count": 22,
   "metadata": {},
   "outputs": [
    {
     "name": "stdout",
     "output_type": "stream",
     "text": [
      "[[0.2298336  0.38651106 0.48147616]\n",
      " [0.6340377  0.16716649 0.19161013]]\n"
     ]
    }
   ],
   "source": [
    "u=random.uniform(size=(2,3))\n",
    "print(u)"
   ]
  },
  {
   "cell_type": "code",
   "execution_count": 23,
   "metadata": {},
   "outputs": [
    {
     "data": {
      "text/plain": [
       "array([[-4.47852233,  1.1822167 ,  0.8562447 ],\n",
       "       [-2.01882976, -2.50389526, -1.37165501]])"
      ]
     },
     "execution_count": 23,
     "metadata": {},
     "output_type": "execute_result"
    }
   ],
   "source": [
    "j=random.logistic(loc=1,scale=2,size=(2,3))\n",
    "j"
   ]
  },
  {
   "cell_type": "code",
   "execution_count": null,
   "metadata": {},
   "outputs": [],
   "source": []
  }
 ],
 "metadata": {
  "kernelspec": {
   "display_name": "Python 3",
   "language": "python",
   "name": "python3"
  },
  "language_info": {
   "codemirror_mode": {
    "name": "ipython",
    "version": 3
   },
   "file_extension": ".py",
   "mimetype": "text/x-python",
   "name": "python",
   "nbconvert_exporter": "python",
   "pygments_lexer": "ipython3",
   "version": "3.7.6"
  }
 },
 "nbformat": 4,
 "nbformat_minor": 4
}
